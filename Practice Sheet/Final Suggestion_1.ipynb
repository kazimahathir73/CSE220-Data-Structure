{
  "nbformat": 4,
  "nbformat_minor": 0,
  "metadata": {
    "colab": {
      "provenance": []
    },
    "kernelspec": {
      "name": "python3",
      "display_name": "Python 3"
    },
    "language_info": {
      "name": "python"
    }
  },
  "cells": [
    {
      "cell_type": "code",
      "execution_count": null,
      "metadata": {
        "id": "ZqWqIa-cd9Zh"
      },
      "outputs": [],
      "source": [
        "#1\n",
        "def sumDigits(n):\n",
        "  if n==0:\n",
        "    return 0\n",
        "  \n",
        "  return n%10 + sumDigits(n//10)\n",
        "\n",
        "a = sumDigits(668)\n",
        "print(a) "
      ]
    },
    {
      "cell_type": "code",
      "source": [
        "#2\n",
        "def bunnyEars2(n):\n",
        "  if n==0:\n",
        "    return 0\n",
        "\n",
        "  if n%2==0:\n",
        "    return 3 + bunnyEars2(n-1)\n",
        "  elif n%2!=0:\n",
        "    return 2 + bunnyEars2(n-1)\n",
        "\n",
        "bunnyEars2(6)"
      ],
      "metadata": {
        "id": "GrZCeo66eI0W"
      },
      "execution_count": null,
      "outputs": []
    },
    {
      "cell_type": "code",
      "source": [
        "#3\n",
        "def count7(n):\n",
        "  if n%10==0:\n",
        "    return 0\n",
        "\n",
        "  if n%10!=7 and n%10!=0:\n",
        "    return 0 + count7(n//10)\n",
        "  elif n%10==7:\n",
        "    return 1 + count7(n//10)\n",
        "\n",
        "count7(717772)"
      ],
      "metadata": {
        "id": "lzcQ7QiqeKnd"
      },
      "execution_count": null,
      "outputs": []
    },
    {
      "cell_type": "code",
      "source": [
        "#4\n",
        "def countX(s):\n",
        "  if (s==\"\"):\n",
        "    return 0\n",
        "  if (s[0]==\"x\"):\n",
        "    return 1 + countX(s[1:])\n",
        "  elif (s[0]!=\"x\"):\n",
        "    return 0 + countX(s[1:])\n",
        "\n",
        "print(countX(\"xxxxhixx\"))"
      ],
      "metadata": {
        "id": "mZ5lWKMdeNr1"
      },
      "execution_count": null,
      "outputs": []
    },
    {
      "cell_type": "code",
      "source": [
        "#6\n",
        "def array11(a,i):\n",
        "  if i==len(a):\n",
        "    return 0\n",
        "  if a[i]==11:\n",
        "    return 1 + array11(a,i+1)\n",
        "  else:\n",
        "    return 0 + array11(a,i+1)\n",
        "\n",
        "a = [1,2,3,11]\n",
        "array11(a,0)"
      ],
      "metadata": {
        "id": "VkRejV1DeONu"
      },
      "execution_count": null,
      "outputs": []
    },
    {
      "cell_type": "code",
      "source": [
        "#8\n",
        "def countAbc(s):\n",
        "  if s==\"\":\n",
        "    return 0\n",
        "  if s[0:3]==\"abc\" or s[0:3]==\"aba\":\n",
        "    return 1 + countAbc(s[3:])\n",
        "  else:\n",
        "    return 0 + countAbc(s[1:])\n",
        "countAbc(\"abaxxabaxabcx\")"
      ],
      "metadata": {
        "id": "UsePA0sHeQG1"
      },
      "execution_count": null,
      "outputs": []
    },
    {
      "cell_type": "code",
      "source": [
        "#10\n",
        "def strCount(s,sub):\n",
        "  if s==\"\":\n",
        "    return 0\n",
        "  if s[0:len(sub)]==sub:\n",
        "    return 1 + strCount(s[len(sub):],sub)\n",
        "  else:\n",
        "    return 0 + strCount(s[1:],sub)\n",
        "\n",
        "strCount(\"catcowcat\", \"cat\")"
      ],
      "metadata": {
        "id": "mVG8YceDeRxc"
      },
      "execution_count": null,
      "outputs": []
    },
    {
      "cell_type": "code",
      "source": [
        "#12\n",
        "def triangle(n):\n",
        "  if n==0:\n",
        "    return 0\n",
        "  return n + triangle(n-1)\n",
        "triangle(4)"
      ],
      "metadata": {
        "id": "fMq5gTh8eTiE"
      },
      "execution_count": null,
      "outputs": []
    },
    {
      "cell_type": "code",
      "source": [
        "#14\n",
        "def array220(a, i):\n",
        "  if i==len(a)-1:\n",
        "    return False\n",
        "  if a[i]*10 == a[i+1]:\n",
        "    return True\n",
        "  else:\n",
        "    return array220(a, i+1)\n",
        "array220([1,2,20], 0)"
      ],
      "metadata": {
        "id": "8-o049WVeVSa"
      },
      "execution_count": null,
      "outputs": []
    },
    {
      "cell_type": "code",
      "source": [
        "#16\n",
        "def count11(s):\n",
        "  if s==\"\":\n",
        "    return 0\n",
        "  if s[0:2] == \"11\":\n",
        "    return 1 + count11(s[2:])\n",
        "  else:\n",
        "    return 0 + count11(s[1:])\n",
        "count11(\"abc11x11x11\")"
      ],
      "metadata": {
        "colab": {
          "base_uri": "https://localhost:8080/"
        },
        "id": "yIrXe6KFeXBg",
        "outputId": "a9f5329d-5839-4f69-fa0d-3566cd21fe6d"
      },
      "execution_count": null,
      "outputs": [
        {
          "output_type": "execute_result",
          "data": {
            "text/plain": [
              "3"
            ]
          },
          "metadata": {},
          "execution_count": 5
        }
      ]
    },
    {
      "cell_type": "code",
      "source": [
        "#18\n",
        "def strCopies(s,sub,n):\n",
        "  if s==\"\":\n",
        "    return False\n",
        "  if n<=0:\n",
        "    return True\n",
        "  if s[0:len(sub)] == sub:\n",
        "    return strCopies(s[len(sub):],sub,n-1)\n",
        "  else:\n",
        "    return strCopies(s[len(sub):],sub,n)\n",
        "  \n",
        "strCopies(\"catcowcat\", \"cow\", 1)"
      ],
      "metadata": {
        "colab": {
          "base_uri": "https://localhost:8080/"
        },
        "id": "oIahsZ7iuc3K",
        "outputId": "e054d1ac-ef7e-4efb-c274-ea1e4213a895"
      },
      "execution_count": null,
      "outputs": [
        {
          "output_type": "execute_result",
          "data": {
            "text/plain": [
              "True"
            ]
          },
          "metadata": {},
          "execution_count": 16
        }
      ]
    },
    {
      "cell_type": "code",
      "source": [
        "#20\n",
        "def array6(a, i):\n",
        "  if i==len(a):\n",
        "    return False\n",
        "  if a[i]==6:\n",
        "    return True\n",
        "  else:\n",
        "    return array6(a, i+1)\n",
        "array6([1, 4, 6], 0)"
      ],
      "metadata": {
        "colab": {
          "base_uri": "https://localhost:8080/"
        },
        "id": "GEisGvwCyrY4",
        "outputId": "b4c27352-93c7-4232-efa4-2ef4b9082580"
      },
      "execution_count": null,
      "outputs": [
        {
          "output_type": "execute_result",
          "data": {
            "text/plain": [
              "True"
            ]
          },
          "metadata": {},
          "execution_count": 28
        }
      ]
    }
  ]
}